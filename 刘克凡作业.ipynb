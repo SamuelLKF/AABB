{
 "cells": [
  {
   "cell_type": "code",
   "execution_count": 1,
   "metadata": {
    "collapsed": true
   },
   "outputs": [],
   "source": [
    "##刘克凡  2018.8.13\n",
    "##题目1：输出所有由四个数字 1、2、3、5 组成的数字组"
   ]
  },
  {
   "cell_type": "code",
   "execution_count": 2,
   "metadata": {},
   "outputs": [
    {
     "name": "stdout",
     "output_type": "stream",
     "text": [
      "1 2 3 5\n",
      "1 2 5 3\n",
      "1 3 2 5\n",
      "1 3 5 2\n",
      "1 5 2 3\n",
      "1 5 3 2\n",
      "2 1 3 5\n",
      "2 1 5 3\n",
      "2 3 1 5\n",
      "2 3 5 1\n",
      "2 5 1 3\n",
      "2 5 3 1\n",
      "3 1 2 5\n",
      "3 1 5 2\n",
      "3 2 1 5\n",
      "3 2 5 1\n",
      "3 5 1 2\n",
      "3 5 2 1\n",
      "5 1 2 3\n",
      "5 1 3 2\n",
      "5 2 1 3\n",
      "5 2 3 1\n",
      "5 3 1 2\n",
      "5 3 2 1\n"
     ]
    }
   ],
   "source": [
    "list_=[1,2,3,5]     ##这里定义我们需要的数字在一个列表里\n",
    "for i in list_:     ##我们只要把列表里的数字遍历4次，就可以得到由这四个数字组成的所有数字\n",
    "    for j in list_:\n",
    "        for k in list_:\n",
    "            for l in list_:\n",
    "                if i!=j and i!=k and i!=l and j!=k and j!=l and k!=l:  ##限定条件，去除所有重复数字\n",
    "                    print(i,j,k,l)"
   ]
  },
  {
   "cell_type": "code",
   "execution_count": 3,
   "metadata": {
    "collapsed": true
   },
   "outputs": [],
   "source": [
    "##题目2：输出斐波那契数列前20项的和"
   ]
  },
  {
   "cell_type": "code",
   "execution_count": 11,
   "metadata": {},
   "outputs": [
    {
     "name": "stdout",
     "output_type": "stream",
     "text": [
      "[1, 1, 2, 3, 5, 8, 13, 21, 34, 55, 89, 144, 233, 377, 610, 987, 1597, 2584, 4181, 6765]\n"
     ]
    },
    {
     "data": {
      "text/plain": [
       "17710"
      ]
     },
     "execution_count": 11,
     "metadata": {},
     "output_type": "execute_result"
    }
   ],
   "source": [
    "def fib(n):                          ##先定义斐波那契函数\n",
    "    L=[]\n",
    "    if n==1:\n",
    "        L=[1]\n",
    "    if n==2:\n",
    "        L=[1,1]\n",
    "    else:\n",
    "        L=[1,1]\n",
    "        for i in range(2,n):\n",
    "            L.append(L[i-1]+L[i-2]) ##保留数列所有值，存在一个list里\n",
    "    return L                        ##返回这个list，得到所需结果\n",
    "\n",
    "print(fib(20))                      ##想看到数列结果，在非交互界面下，需要用print\n",
    "sum(fib(20))                        ##计算前20项的和"
   ]
  },
  {
   "cell_type": "code",
   "execution_count": null,
   "metadata": {
    "collapsed": true
   },
   "outputs": [],
   "source": [
    "##题目3：输出200以内，各个数位之和为偶数的素数（如101、103）"
   ]
  },
  {
   "cell_type": "code",
   "execution_count": 20,
   "metadata": {},
   "outputs": [
    {
     "name": "stdout",
     "output_type": "stream",
     "text": [
      "2\n",
      "11\n",
      "13\n",
      "17\n",
      "19\n",
      "31\n",
      "37\n",
      "53\n",
      "59\n",
      "71\n",
      "73\n",
      "79\n",
      "97\n",
      "101\n",
      "103\n",
      "107\n",
      "109\n",
      "127\n",
      "149\n",
      "163\n",
      "167\n",
      "181\n"
     ]
    }
   ],
   "source": [
    "def qiuhe(num): #先定义一个函数，计算一个整数的各个数位之和，再把它引入到后面的循环中\n",
    "    return sum(int(i) for i in str(num) if i.isdigit())\n",
    "\n",
    "\n",
    "##下面这个找素数的算法是最笨的一个个遍历法，其实还有很多算法可以找到素数，这里就先不一一列举了\n",
    "num=0\n",
    "for i in range(2,200):\n",
    "    k=True\n",
    "    for j in range(2,i):   ##第一步先筛选素数\n",
    "        if (i%j==0):\n",
    "            k=False\n",
    "            break\n",
    "    if(k==True):\n",
    "        if qiuhe(i)%2==0: ##第二步筛选符合条件的素数，这里引用前面定义过的函数，利用if结构选择数位求和为偶数的数\n",
    "            print(i)\n",
    "        else:\n",
    "            continue            \n",
    "    num=num+1"
   ]
  },
  {
   "cell_type": "code",
   "execution_count": null,
   "metadata": {
    "collapsed": true
   },
   "outputs": [],
   "source": []
  }
 ],
 "metadata": {
  "kernelspec": {
   "display_name": "Python 3",
   "language": "python",
   "name": "python3"
  },
  "language_info": {
   "codemirror_mode": {
    "name": "ipython",
    "version": 3
   },
   "file_extension": ".py",
   "mimetype": "text/x-python",
   "name": "python",
   "nbconvert_exporter": "python",
   "pygments_lexer": "ipython3",
   "version": "3.6.2"
  }
 },
 "nbformat": 4,
 "nbformat_minor": 2
}
